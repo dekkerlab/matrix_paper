{
 "cells": [
  {
   "cell_type": "code",
   "execution_count": 1,
   "metadata": {},
   "outputs": [],
   "source": [
    "# Pileup insulation boundaries\n",
    "# Shown strong boundaries pileup as an example"
   ]
  },
  {
   "cell_type": "code",
   "execution_count": null,
   "metadata": {},
   "outputs": [],
   "source": [
    "%matplotlib inline\n",
    "from matplotlib.gridspec import GridSpec\n",
    "import matplotlib.pyplot as plt\n",
    "import matplotlib as mpl\n",
    "import seaborn as sns\n",
    "mpl.style.use('seaborn-white')\n",
    "import multiprocess as mp\n",
    "import numpy as np\n",
    "import pandas as pd\n",
    "import cooltools\n",
    "import cooler\n",
    "import bbi\n",
    "import bioframe"
   ]
  },
  {
   "cell_type": "code",
   "execution_count": 2,
   "metadata": {},
   "outputs": [],
   "source": [
    "path=cooler_path\n",
    "out=output_path"
   ]
  },
  {
   "cell_type": "code",
   "execution_count": 5,
   "metadata": {},
   "outputs": [],
   "source": [
    "filename1=\"U54-HFFc6-FA-DpnII-R1-R2_hg38.mapq_30.1000.mcool\"\n",
    "filename2=\"U54-HFFc6-DSG-DpnII-R1-R2_hg38.mapq_30.1000.mcool\"\n",
    "filename3=\"U54-HFFc6-FA-DSG-MNase-R1-R3_hg38.mapq_30.1000.mcool\"\n"
   ]
  },
  {
   "cell_type": "code",
   "execution_count": 16,
   "metadata": {},
   "outputs": [],
   "source": [
    "filename1=\"U54-ESC4DN-FA-DpnII-R1-R2_hg38.mapq_30.1000.mcool\"\n",
    "filename2=\"U54-ESC4DN-DSG-DpnII-R1-R2_hg38.mapq_30.1000.mcool\"\n",
    "filename3=\"U54-H1ESC4DN-FA-DSG-MNase-R1-R2_hg38.mapq_30.1000.mcool\"\n",
    "\n",
    "\n"
   ]
  },
  {
   "cell_type": "code",
   "execution_count": 6,
   "metadata": {},
   "outputs": [
    {
     "name": "stdout",
     "output_type": "stream",
     "text": [
      "U54-HFFc6-FA-DpnII-R1-R2_hg38.mapq_30.1000.mcool U54-HFFc6-DSG-DpnII-R1-R2_hg38.mapq_30.1000.mcool U54-HFFc6-FA-DSG-MNase-R1-R3_hg38.mapq_30.1000.mcool\n"
     ]
    }
   ],
   "source": [
    "exp_path=expected_path\n",
    "insulation_path=insulation_path\n",
    "\n",
    "hg38 = bioframe.fetch_chromsizes('hg38')\n",
    "chromsizes = bioframe.fetch_chromsizes('hg38')\n",
    "chromosomes = list(chromsizes.index)\n",
    "\n",
    "print(filename1,filename2,filename3)\n",
    "\n",
    "conditions = ['FA_DpnII','DSG_DpnII','DSG_MNase']\n",
    "\n",
    "\n",
    "cool = [filename1,filename2,filename3]\n",
    "\n",
    "\n",
    "cooler_paths = {\n",
    "\n",
    "    'FA_DpnII' : path+filename1+'::/resolutions/10000',\n",
    "    'DSG_DpnII' : path+filename2+'::/resolutions/10000',\n",
    "    'DSG_MNase' : path+filename3+'::/resolutions/10000',\n",
    "    \n",
    "}\n",
    "\n",
    "\n",
    "long_names = {\n",
    "    'DSG_MNase': 'DSG_MNase',\n",
    "    'FA_DpnII': 'FA_DpnII',\n",
    "    'DSG_DpnII': 'DSG_DpnII',\n",
    "}\n",
    "\n",
    "exp_name_list=[file.split(\".\")[0]+\"_10000.cis.expected\" for file in cool]   \n",
    "\n",
    "\n",
    "expected_path={\n",
    "\n",
    "    'FA_DpnII' : exp_path+exp_name_list[0],\n",
    "    'DSG_DpnII' : exp_path+exp_name_list[1],\n",
    "    'DSG_MNase' : exp_path+exp_name_list[2],\n",
    "}\n",
    "\n",
    "ins_name_list=[file.split(\".\")[0]+\".txt\" for file in cool]   \n",
    "\n",
    "insulation_path={\n",
    "    'FA_DpnII' : insulation_path+ins_name_list[0],\n",
    "    'DSG_DpnII' : insulation_path+ins_name_list[1],\n",
    "    'DSG_MNase' : insulation_path+ins_name_list[2]\n",
    "}\n",
    "\n",
    "\n",
    "clrs = {\n",
    "    cond: cooler.Cooler(cooler_paths[cond]) for cond in conditions\n",
    "}\n",
    "\n",
    "\n"
   ]
  },
  {
   "cell_type": "code",
   "execution_count": null,
   "metadata": {},
   "outputs": [],
   "source": [
    "def pile_up(df,index_list):\n",
    "    start = df.ix[index_list].index-40 \n",
    "    end  = df.ix[index_list].index+41\n",
    "    #print(end)\n",
    "    return (np.nanmean(np.array(list(map(lambda x: df[\"log2_insulation_score_200000\"].values[x[0]:x[1]],  zip(start,end)))), axis=0))\n"
   ]
  },
  {
   "cell_type": "code",
   "execution_count": 9,
   "metadata": {
    "scrolled": false
   },
   "outputs": [
    {
     "name": "stderr",
     "output_type": "stream",
     "text": [
      "/home/ba69w/tools/miniconda3/envs/cooler-env/lib/python3.7/site-packages/ipykernel_launcher.py:9: FutureWarning: read_table is deprecated, use read_csv instead, passing sep='\\t'.\n",
      "  if __name__ == '__main__':\n"
     ]
    },
    {
     "name": "stdout",
     "output_type": "stream",
     "text": [
      "  chrom  start    end  is_bad_bin  log2_insulation_score_200000  \\\n",
      "0  chr1      0  10000        True                           NaN   \n",
      "1  chr1  10000  20000        True                           NaN   \n",
      "2  chr1  20000  30000        True                           NaN   \n",
      "3  chr1  30000  40000        True                           NaN   \n",
      "4  chr1  40000  50000        True                           NaN   \n",
      "\n",
      "   n_valid_pixels_200000  boundary_strength_200000 category  \n",
      "0                    0.0                       NaN      NaN  \n",
      "1                    0.0                       NaN      NaN  \n",
      "2                    0.0                       NaN      NaN  \n",
      "3                    0.0                       NaN      NaN  \n",
      "4                    0.0                       NaN      NaN  \n",
      "(27115, 8)\n",
      "(5815, 8)\n"
     ]
    },
    {
     "ename": "NameError",
     "evalue": "name 'index_list_dict' is not defined",
     "output_type": "error",
     "traceback": [
      "\u001b[0;31m---------------------------------------------------------------------------\u001b[0m",
      "\u001b[0;31mNameError\u001b[0m                                 Traceback (most recent call last)",
      "\u001b[0;32m<ipython-input-9-1ad49783f07c>\u001b[0m in \u001b[0;36m<module>\u001b[0;34m\u001b[0m\n\u001b[1;32m     31\u001b[0m         \u001b[0minsulations_new_all\u001b[0m\u001b[0;34m=\u001b[0m\u001b[0mpd\u001b[0m\u001b[0;34m.\u001b[0m\u001b[0mconcat\u001b[0m\u001b[0;34m(\u001b[0m\u001b[0;34m[\u001b[0m\u001b[0minsulations_new_all\u001b[0m\u001b[0;34m,\u001b[0m\u001b[0minsulations_new_chr\u001b[0m\u001b[0;34m]\u001b[0m\u001b[0;34m)\u001b[0m\u001b[0;34m\u001b[0m\u001b[0;34m\u001b[0m\u001b[0m\n\u001b[1;32m     32\u001b[0m     \u001b[0mprint\u001b[0m\u001b[0;34m(\u001b[0m\u001b[0minsulations_new_all\u001b[0m\u001b[0;34m.\u001b[0m\u001b[0mshape\u001b[0m\u001b[0;34m)\u001b[0m\u001b[0;34m\u001b[0m\u001b[0;34m\u001b[0m\u001b[0m\n\u001b[0;32m---> 33\u001b[0;31m     \u001b[0mindex_list_dict\u001b[0m\u001b[0;34m[\u001b[0m\u001b[0mcond\u001b[0m\u001b[0;34m]\u001b[0m\u001b[0;34m=\u001b[0m\u001b[0minsulations_new_all\u001b[0m\u001b[0;34m.\u001b[0m\u001b[0mindex\u001b[0m\u001b[0;34m\u001b[0m\u001b[0;34m\u001b[0m\u001b[0m\n\u001b[0m",
      "\u001b[0;31mNameError\u001b[0m: name 'index_list_dict' is not defined"
     ]
    },
    {
     "data": {
      "text/plain": [
       "<Figure size 1080x360 with 0 Axes>"
      ]
     },
     "metadata": {},
     "output_type": "display_data"
    }
   ],
   "source": [
    "all_m=[]\n",
    "gs = GridSpec(nrows=1, ncols=3)\n",
    "plt.figure(figsize=(15,5))\n",
    "new_data=pd.DataFrame()\n",
    "names=[\"FA-DpnII\",\"DSG-DpnII\",\"DSG-MNase\"]\n",
    "#index_list_dict={}\n",
    "for i,cond in enumerate(conditions):\n",
    "    insulations_new_all=pd.DataFrame()\n",
    "    insulations = pd.read_table(insulation_path[cond])\n",
    "    print(insulations.head(5))\n",
    "    insulations = insulations.dropna()\n",
    "    insulations.columns=[\"chrom\",\"start\",\"end\",\"is_bad_bin\",\"log2_insulation_score_200000\",\"n_valid_pixels_200000\",\"boundary_strength_200000\",\"category\"]\n",
    "    strong_weak=insulations[insulations[\"boundary_strength_200000\"] !=0]\n",
    "    print(strong_weak.shape)\n",
    "    m=np.mean(strong_weak[\"boundary_strength_200000\"])\n",
    "    all_m.append(m)\n",
    "    #name=insulation_path[cond].split(\"/\")[-1].split(\".\")[0]\n",
    "    #print(name)\n",
    "    x = np.log10(strong_weak['boundary_strength_200000'].values)\n",
    "    bins = np.linspace(x.min(), x.max(), num=100)\n",
    "    boundary_list=strong_weak[strong_weak[\"boundary_strength_200000\"] >= m]\n",
    "    boundary_list.to_csv(\"_\"+cond+\"_strong_boundaries.bed\",sep=\"\\t\", header=None,index=None)\n",
    "    for chrom in np.unique(insulations[[\"chrom\"]]):\n",
    "        insulations_new_chr=pd.DataFrame()\n",
    "        boundary_list_chr=boundary_list[boundary_list[\"chrom\"]==chrom]\n",
    "        mid_point_new=boundary_list_chr[[\"start\",\"end\"]].mean(axis=1)+1\n",
    "        insulations_chr=insulations[insulations[\"chrom\"]==chrom]\n",
    "        for i in mid_point_new:\n",
    "            temp=insulations_chr[insulations_chr.eval('(start < {}) & ({} < end)'.format(i,i))]\n",
    "            insulations_new_chr=pd.concat([insulations_new_chr,pd.DataFrame(temp)],ignore_index=False)\n",
    "        insulations_new_all=pd.concat([insulations_new_all,insulations_new_chr])\n",
    "    print(insulations_new_all.shape)\n",
    "    index_list_dict[cond]=insulations_new_all.index"
   ]
  },
  {
   "cell_type": "code",
   "execution_count": 34,
   "metadata": {},
   "outputs": [],
   "source": [
    "def pile_up(df,index_list):\n",
    "    start = df.ix[index_list].index-40 \n",
    "    end  = df.ix[index_list].index+41\n",
    "    #print(end)\n",
    "    return (np.nanmean(np.array(list(map(lambda x: df[\"log2_insulation_score_200000\"].values[x[0]:x[1]],  zip(start,end)))), axis=0))\n",
    "\n",
    "\n",
    "\n"
   ]
  },
  {
   "cell_type": "code",
   "execution_count": 38,
   "metadata": {},
   "outputs": [
    {
     "name": "stderr",
     "output_type": "stream",
     "text": [
      "/home/ba69w/tools/miniconda3/envs/cooler-env/lib/python3.7/site-packages/ipykernel_launcher.py:7: FutureWarning: read_table is deprecated, use read_csv instead, passing sep='\\t'.\n",
      "  import sys\n"
     ]
    },
    {
     "name": "stdout",
     "output_type": "stream",
     "text": [
      "1\n"
     ]
    },
    {
     "name": "stderr",
     "output_type": "stream",
     "text": [
      "/home/ba69w/tools/miniconda3/envs/cooler-env/lib/python3.7/site-packages/ipykernel_launcher.py:2: DeprecationWarning: \n",
      ".ix is deprecated. Please use\n",
      ".loc for label based indexing or\n",
      ".iloc for positional indexing\n",
      "\n",
      "See the documentation here:\n",
      "http://pandas.pydata.org/pandas-docs/stable/indexing.html#ix-indexer-is-deprecated\n",
      "  \n",
      "/home/ba69w/tools/miniconda3/envs/cooler-env/lib/python3.7/site-packages/ipykernel_launcher.py:3: DeprecationWarning: \n",
      ".ix is deprecated. Please use\n",
      ".loc for label based indexing or\n",
      ".iloc for positional indexing\n",
      "\n",
      "See the documentation here:\n",
      "http://pandas.pydata.org/pandas-docs/stable/indexing.html#ix-indexer-is-deprecated\n",
      "  This is separate from the ipykernel package so we can avoid doing imports until\n"
     ]
    },
    {
     "data": {
      "image/png": "[encoded data removed]",
      "text/plain": [
       "<Figure size 360x360 with 1 Axes>"
      ]
     },
     "metadata": {},
     "output_type": "display_data"
    }
   ],
   "source": [
    "gs = GridSpec(nrows=1, ncols=1)\n",
    "plt.figure(figsize=(5,5))\n",
    "color=['r','b','g']\n",
    "names=[\"FA-DpnII\",\"FA+DSG-DpnII\",\"FA+DSG-MNase\"]\n",
    "k=0\n",
    "for i, cond in enumerate(conditions):\n",
    "    insulations = pd.read_table(insulation_path[cond])\n",
    "    insulations.columns=[\"chrom\",\"start\",\"end\",\"is_bad_bin\",\"log2_insulation_score_200000\",\"n_valid_pixels_200000\",\"boundary_strength_200000\",\"category\"]\n",
    "    if i%3 == 0:\n",
    "        #print(i)\n",
    "        ax = plt.subplot(gs[k])\n",
    "        #ax.set_title(names[k],fontsize=30)\n",
    "        k=k+1\n",
    "        print(k)\n",
    "    img=ax.plot(pile_up(insulations,index_list_dict[\"FA_DpnII\"].values),color=color[i])\n",
    "    ax.xaxis.tick_bottom()\n",
    "    ax.set_ylim(-0.7,0.3)\n",
    "#plt.savefig(\"ESC_FA_DpnII_strong.pdf\")\n",
    "\n",
    "\n",
    "#conditions = ['FA_DpnII','DSG_DpnII','DSG_MNase']"
   ]
  },
  {
   "cell_type": "code",
   "execution_count": 5,
   "metadata": {},
   "outputs": [],
   "source": [
    "boundary_list_all=[\"U54-HFFc6-FA-DpnII_loop_anchors_overlap_strong_boundaries.bed\",\n",
    "\"U54-HFFc6-DSG-DpnII_loop_anchors_overlap_strong_boundaries.bed\",\n",
    "\"U54-HFFc6-FA-DSG-MNase_loop_anchors_overlap_strong_boundaries.bed\"]\n",
    "\n",
    "  "
   ]
  },
  {
   "cell_type": "code",
   "execution_count": 20,
   "metadata": {},
   "outputs": [],
   "source": [
    "boundary_list_all=[\"/nl/umw_job_dekker/users/ba69w/HiC_Analysis/U54_matrix/insulation_deep/U54-ESC4DN-FA-DpnII_loop_anchors_overlap_strong_boundaries.bed\",\n",
    "                   \"/nl/umw_job_dekker/users/ba69w/HiC_Analysis/U54_matrix/insulation_deep/U54-ESC4DN-DSG-DpnII_loop_anchors_overlap_strong_boundaries.bed\",\n",
    "                   \"/nl/umw_job_dekker/users/ba69w/HiC_Analysis/U54_matrix/insulation_deep/U54-H1ESC4DN-FA-DSG-MNase_loop_anchors_overlap_strong_boundaries.bed\"]\n",
    "\n"
   ]
  },
  {
   "cell_type": "code",
   "execution_count": 21,
   "metadata": {
    "scrolled": false
   },
   "outputs": [
    {
     "name": "stderr",
     "output_type": "stream",
     "text": [
      "/home/ba69w/tools/miniconda3/envs/cooler-env/lib/python3.7/site-packages/ipykernel_launcher.py:4: FutureWarning: read_table is deprecated, use read_csv instead, passing sep='\\t'.\n",
      "  after removing the cwd from sys.path.\n",
      "/home/ba69w/tools/miniconda3/envs/cooler-env/lib/python3.7/site-packages/ipykernel_launcher.py:13: FutureWarning: read_table is deprecated, use read_csv instead, passing sep='\\t'.\n",
      "  del sys.path[0]\n"
     ]
    },
    {
     "name": "stdout",
     "output_type": "stream",
     "text": [
      "     0        1        2   3     4        5        6      7         8      9   \\\n",
      "0  chr1  2030000  2060000   1  chr1  2040000  2070000  False -0.076647  397.0   \n",
      "1  chr1  5490000  5520000   1  chr1  5480000  5510000  False -0.019968  397.0   \n",
      "2  chr1  6690000  6720000   1  chr1  6680000  6710000  False -1.099495  397.0   \n",
      "3  chr1  7190000  7240000   3  chr1  7210000  7240000  False -0.238309  397.0   \n",
      "4  chr1  7630000  7660000   1  chr1  7640000  7670000  False -0.510135  397.0   \n",
      "\n",
      "         10      11  \n",
      "0  0.243801  strong  \n",
      "1  0.543559  strong  \n",
      "2  1.942034  strong  \n",
      "3  0.661840  strong  \n",
      "4  0.444195  strong  \n"
     ]
    },
    {
     "name": "stderr",
     "output_type": "stream",
     "text": [
      "/home/ba69w/tools/miniconda3/envs/cooler-env/lib/python3.7/site-packages/ipykernel_launcher.py:22: SettingWithCopyWarning: \n",
      "A value is trying to be set on a copy of a slice from a DataFrame.\n",
      "Try using .loc[row_indexer,col_indexer] = value instead\n",
      "\n",
      "See the caveats in the documentation: http://pandas.pydata.org/pandas-docs/stable/indexing.html#indexing-view-versus-copy\n",
      "/home/ba69w/tools/miniconda3/envs/cooler-env/lib/python3.7/site-packages/ipykernel_launcher.py:23: SettingWithCopyWarning: \n",
      "A value is trying to be set on a copy of a slice from a DataFrame.\n",
      "Try using .loc[row_indexer,col_indexer] = value instead\n",
      "\n",
      "See the caveats in the documentation: http://pandas.pydata.org/pandas-docs/stable/indexing.html#indexing-view-versus-copy\n"
     ]
    },
    {
     "name": "stdout",
     "output_type": "stream",
     "text": [
      "(1530, 8)\n",
      "(1530, 8)\n",
      "(1530, 8)\n"
     ]
    },
    {
     "name": "stderr",
     "output_type": "stream",
     "text": [
      "/home/ba69w/tools/miniconda3/envs/cooler-env/lib/python3.7/site-packages/ipykernel_launcher.py:38: FutureWarning: read_table is deprecated, use read_csv instead, passing sep='\\t'.\n"
     ]
    },
    {
     "name": "stdout",
     "output_type": "stream",
     "text": [
      "1\n"
     ]
    },
    {
     "name": "stderr",
     "output_type": "stream",
     "text": [
      "/home/ba69w/tools/miniconda3/envs/cooler-env/lib/python3.7/site-packages/ipykernel_launcher.py:2: DeprecationWarning: \n",
      ".ix is deprecated. Please use\n",
      ".loc for label based indexing or\n",
      ".iloc for positional indexing\n",
      "\n",
      "See the documentation here:\n",
      "http://pandas.pydata.org/pandas-docs/stable/indexing.html#ix-indexer-is-deprecated\n",
      "  \n",
      "/home/ba69w/tools/miniconda3/envs/cooler-env/lib/python3.7/site-packages/ipykernel_launcher.py:3: DeprecationWarning: \n",
      ".ix is deprecated. Please use\n",
      ".loc for label based indexing or\n",
      ".iloc for positional indexing\n",
      "\n",
      "See the documentation here:\n",
      "http://pandas.pydata.org/pandas-docs/stable/indexing.html#ix-indexer-is-deprecated\n",
      "  This is separate from the ipykernel package so we can avoid doing imports until\n",
      "/home/ba69w/tools/miniconda3/envs/cooler-env/lib/python3.7/site-packages/ipykernel_launcher.py:4: FutureWarning: read_table is deprecated, use read_csv instead, passing sep='\\t'.\n",
      "  after removing the cwd from sys.path.\n",
      "/home/ba69w/tools/miniconda3/envs/cooler-env/lib/python3.7/site-packages/ipykernel_launcher.py:13: FutureWarning: read_table is deprecated, use read_csv instead, passing sep='\\t'.\n",
      "  del sys.path[0]\n"
     ]
    },
    {
     "name": "stdout",
     "output_type": "stream",
     "text": [
      "     0        1        2   3     4        5        6      7         8      9   \\\n",
      "0  chr1  1050000  1080000   1  chr1  1060000  1090000  False  0.411661  397.0   \n",
      "1  chr1  2180000  2205000   1  chr1  2160000  2190000  False -0.117359  397.0   \n",
      "2  chr1  2370000  2395000   1  chr1  2390000  2420000  False -0.370780  397.0   \n",
      "3  chr1  2400000  2425000   1  chr1  2390000  2420000  False -0.370780  397.0   \n",
      "4  chr1  3055000  3080000   2  chr1  3050000  3080000  False -0.439192  397.0   \n",
      "\n",
      "         10      11  \n",
      "0  0.438110  strong  \n",
      "1  0.397329  strong  \n",
      "2  0.970443  strong  \n",
      "3  0.970443  strong  \n",
      "4  1.220610  strong  \n"
     ]
    },
    {
     "name": "stderr",
     "output_type": "stream",
     "text": [
      "/home/ba69w/tools/miniconda3/envs/cooler-env/lib/python3.7/site-packages/ipykernel_launcher.py:22: SettingWithCopyWarning: \n",
      "A value is trying to be set on a copy of a slice from a DataFrame.\n",
      "Try using .loc[row_indexer,col_indexer] = value instead\n",
      "\n",
      "See the caveats in the documentation: http://pandas.pydata.org/pandas-docs/stable/indexing.html#indexing-view-versus-copy\n",
      "/home/ba69w/tools/miniconda3/envs/cooler-env/lib/python3.7/site-packages/ipykernel_launcher.py:23: SettingWithCopyWarning: \n",
      "A value is trying to be set on a copy of a slice from a DataFrame.\n",
      "Try using .loc[row_indexer,col_indexer] = value instead\n",
      "\n",
      "See the caveats in the documentation: http://pandas.pydata.org/pandas-docs/stable/indexing.html#indexing-view-versus-copy\n"
     ]
    },
    {
     "name": "stdout",
     "output_type": "stream",
     "text": [
      "(3550, 8)\n",
      "(3550, 8)\n",
      "(3550, 8)\n"
     ]
    },
    {
     "name": "stderr",
     "output_type": "stream",
     "text": [
      "/home/ba69w/tools/miniconda3/envs/cooler-env/lib/python3.7/site-packages/ipykernel_launcher.py:38: FutureWarning: read_table is deprecated, use read_csv instead, passing sep='\\t'.\n"
     ]
    },
    {
     "name": "stdout",
     "output_type": "stream",
     "text": [
      "1\n"
     ]
    },
    {
     "name": "stderr",
     "output_type": "stream",
     "text": [
      "/home/ba69w/tools/miniconda3/envs/cooler-env/lib/python3.7/site-packages/ipykernel_launcher.py:2: DeprecationWarning: \n",
      ".ix is deprecated. Please use\n",
      ".loc for label based indexing or\n",
      ".iloc for positional indexing\n",
      "\n",
      "See the documentation here:\n",
      "http://pandas.pydata.org/pandas-docs/stable/indexing.html#ix-indexer-is-deprecated\n",
      "  \n",
      "/home/ba69w/tools/miniconda3/envs/cooler-env/lib/python3.7/site-packages/ipykernel_launcher.py:3: DeprecationWarning: \n",
      ".ix is deprecated. Please use\n",
      ".loc for label based indexing or\n",
      ".iloc for positional indexing\n",
      "\n",
      "See the documentation here:\n",
      "http://pandas.pydata.org/pandas-docs/stable/indexing.html#ix-indexer-is-deprecated\n",
      "  This is separate from the ipykernel package so we can avoid doing imports until\n",
      "/home/ba69w/tools/miniconda3/envs/cooler-env/lib/python3.7/site-packages/ipykernel_launcher.py:4: FutureWarning: read_table is deprecated, use read_csv instead, passing sep='\\t'.\n",
      "  after removing the cwd from sys.path.\n",
      "/home/ba69w/tools/miniconda3/envs/cooler-env/lib/python3.7/site-packages/ipykernel_launcher.py:13: FutureWarning: read_table is deprecated, use read_csv instead, passing sep='\\t'.\n",
      "  del sys.path[0]\n"
     ]
    },
    {
     "name": "stdout",
     "output_type": "stream",
     "text": [
      "     0        1        2   3     4        5        6      7         8      9   \\\n",
      "0  chr1   970000   995000   2  chr1   960000   990000  False  0.320106  297.0   \n",
      "1  chr1  1280000  1305000   3  chr1  1290000  1320000  False -0.253965  397.0   \n",
      "2  chr1  1895000  1920000   1  chr1  1900000  1930000  False -0.273058  397.0   \n",
      "3  chr1  2160000  2185000   1  chr1  2160000  2190000  False -0.127803  397.0   \n",
      "4  chr1  2180000  2210000   3  chr1  2160000  2190000  False -0.127803  397.0   \n",
      "\n",
      "         10      11  \n",
      "0  0.543761  strong  \n",
      "1  0.778906  strong  \n",
      "2  0.795110  strong  \n",
      "3  0.417214  strong  \n",
      "4  0.417214  strong  \n"
     ]
    },
    {
     "name": "stderr",
     "output_type": "stream",
     "text": [
      "/home/ba69w/tools/miniconda3/envs/cooler-env/lib/python3.7/site-packages/ipykernel_launcher.py:22: SettingWithCopyWarning: \n",
      "A value is trying to be set on a copy of a slice from a DataFrame.\n",
      "Try using .loc[row_indexer,col_indexer] = value instead\n",
      "\n",
      "See the caveats in the documentation: http://pandas.pydata.org/pandas-docs/stable/indexing.html#indexing-view-versus-copy\n",
      "/home/ba69w/tools/miniconda3/envs/cooler-env/lib/python3.7/site-packages/ipykernel_launcher.py:23: SettingWithCopyWarning: \n",
      "A value is trying to be set on a copy of a slice from a DataFrame.\n",
      "Try using .loc[row_indexer,col_indexer] = value instead\n",
      "\n",
      "See the caveats in the documentation: http://pandas.pydata.org/pandas-docs/stable/indexing.html#indexing-view-versus-copy\n"
     ]
    },
    {
     "name": "stdout",
     "output_type": "stream",
     "text": [
      "(4440, 8)\n",
      "(4440, 8)\n",
      "(4440, 8)\n"
     ]
    },
    {
     "name": "stderr",
     "output_type": "stream",
     "text": [
      "/home/ba69w/tools/miniconda3/envs/cooler-env/lib/python3.7/site-packages/ipykernel_launcher.py:38: FutureWarning: read_table is deprecated, use read_csv instead, passing sep='\\t'.\n"
     ]
    },
    {
     "name": "stdout",
     "output_type": "stream",
     "text": [
      "1\n"
     ]
    },
    {
     "name": "stderr",
     "output_type": "stream",
     "text": [
      "/home/ba69w/tools/miniconda3/envs/cooler-env/lib/python3.7/site-packages/ipykernel_launcher.py:2: DeprecationWarning: \n",
      ".ix is deprecated. Please use\n",
      ".loc for label based indexing or\n",
      ".iloc for positional indexing\n",
      "\n",
      "See the documentation here:\n",
      "http://pandas.pydata.org/pandas-docs/stable/indexing.html#ix-indexer-is-deprecated\n",
      "  \n",
      "/home/ba69w/tools/miniconda3/envs/cooler-env/lib/python3.7/site-packages/ipykernel_launcher.py:3: DeprecationWarning: \n",
      ".ix is deprecated. Please use\n",
      ".loc for label based indexing or\n",
      ".iloc for positional indexing\n",
      "\n",
      "See the documentation here:\n",
      "http://pandas.pydata.org/pandas-docs/stable/indexing.html#ix-indexer-is-deprecated\n",
      "  This is separate from the ipykernel package so we can avoid doing imports until\n"
     ]
    },
    {
     "data": {
      "image/png": "[encoded data removed]",
      "text/plain": [
       "<Figure size 360x360 with 1 Axes>"
      ]
     },
     "metadata": {},
     "output_type": "display_data"
    },
    {
     "data": {
      "image/png": "[encoded data removed]",
      "text/plain": [
       "<Figure size 360x360 with 1 Axes>"
      ]
     },
     "metadata": {},
     "output_type": "display_data"
    },
    {
     "data": {
      "image/png": "[encoded data removed]",
      "text/plain": [
       "<Figure size 360x360 with 1 Axes>"
      ]
     },
     "metadata": {},
     "output_type": "display_data"
    }
   ],
   "source": [
    "s=0\n",
    "for  boundary_list in boundary_list_all:\n",
    "    boundary_names=[\"FA-DpnII\",\"FA+DSG-DpnII\",\"FA+DSG-MNase\"]\n",
    "    boundary_list = pd.read_table(boundary_list,header=None)\n",
    "    print(boundary_list.head(5))\n",
    "    boundary_list=boundary_list.iloc[:,[4,5,6]]\n",
    "    boundary_list=boundary_list.drop_duplicates()\n",
    "    boundary_list.columns=[\"chrom\",\"start\",\"end\"]\n",
    "    mid_point=np.mean(boundary_list[[\"start\",\"end\"]],axis=1)\n",
    "    index_list_dict={}\n",
    "    for cond in conditions:\n",
    "        insulations_new_all=pd.DataFrame()\n",
    "        insulations = pd.read_table(insulation_path[cond])\n",
    "        insulations.columns=[\"chrom\",\"start\",\"end\",\"is_bad_bin\",\"log2_insulation_score_200000\",\"n_valid_pixels_200000\",\"boundary_strength_200000\",\"category\"]\n",
    "        for chrom in np.unique(insulations[[\"chrom\"]]):\n",
    "            insulations_new_chr=pd.DataFrame()\n",
    "            boundary_list_chr=boundary_list[boundary_list[\"chrom\"]==chrom]\n",
    "            mid_point_new=boundary_list_chr[[\"start\",\"end\"]].mean(axis=1)+1\n",
    "            #mid_point_new=[int(i) for i in mid_point_new]\n",
    "            #print(mid_point_new[1:6])\n",
    "            insulations_chr=insulations[insulations[\"chrom\"]==chrom]\n",
    "            insulations_chr[\"start\"] = pd.to_numeric(insulations_chr[\"start\"])\n",
    "            insulations_chr[\"end\"] = pd.to_numeric(insulations_chr[\"end\"])\n",
    "            #print(insulations_chr)\n",
    "            for i in mid_point_new:\n",
    "                #print(i)\n",
    "                temp=insulations_chr[insulations_chr.eval('(start < {}) & ({} < end)'.format(i,i))]\n",
    "                insulations_new_chr=pd.concat([insulations_new_chr,pd.DataFrame(temp)],ignore_index=False)\n",
    "            insulations_new_all=pd.concat([insulations_new_all,insulations_new_chr])\n",
    "        print(insulations_new_all.shape)\n",
    "        index_list_dict[cond]=insulations_new_all.index\n",
    "    gs = GridSpec(nrows=1, ncols=1)\n",
    "    plt.figure(figsize=(5,5))\n",
    "    color=['r','b','g']\n",
    "    names=[\"FA-DpnII\",\"FA+DSG-DpnII\",\"FA+DSG-MNase\"]\n",
    "    k=0\n",
    "    for i, cond in enumerate(conditions):\n",
    "        insulations = pd.read_table(insulation_path[cond])\n",
    "        insulations.columns=[\"chrom\",\"start\",\"end\",\"is_bad_bin\",\"log2_insulation_score_200000\",\"n_valid_pixels_200000\",\"boundary_strength_200000\",\"category\"]\n",
    "        if i%3 == 0:\n",
    "            #print(i)\n",
    "            ax = plt.subplot(gs[k])\n",
    "            #ax.set_title(names[k],fontsize=30)\n",
    "            k=k+1\n",
    "            print(k)\n",
    "        img=ax.plot(pile_up(insulations,index_list_dict[cond].values),color=color[i])\n",
    "        ax.xaxis.tick_bottom()\n",
    "        ax.set_ylim(-0.7,0.3)\n",
    "        ax.set_xlim()\n",
    "    plt.savefig(\"ESC_\"+boundary_names[s]+\"_loop_anchors_overlap_boundries.pdf\")\n",
    "    s=s+1\n",
    "\n",
    "\n",
    "\n"
   ]
  },
  {
   "cell_type": "code",
   "execution_count": null,
   "metadata": {},
   "outputs": [],
   "source": []
  }
 ],
 "metadata": {
  "kernelspec": {
   "display_name": "Python 3",
   "language": "python",
   "name": "python3"
  },
  "language_info": {
   "codemirror_mode": {
    "name": "ipython",
    "version": 3
   },
   "file_extension": ".py",
   "mimetype": "text/x-python",
   "name": "python",
   "nbconvert_exporter": "python",
   "pygments_lexer": "ipython3",
   "version": "3.6.6"
  }
 },
 "nbformat": 4,
 "nbformat_minor": 2
}
