{
 "cells": [
  {
   "cell_type": "code",
   "execution_count": 2,
   "metadata": {},
   "outputs": [],
   "source": [
    "# Get 1D anchor list for H1-hESC and HFFc6\n",
    "# Concatanate Anchor1 and Anchor2 of H1-hESC and HFFc6\n",
    "# bedtool intersect $file1 $file2 > file1_union_file2.bed\n",
    "# created the files below\n",
    "# HFFC6_FA-DpnII_union_DSG-DpnII\n",
    "# HFFc6_FA-DpnII_union_DSG-MNase\n",
    "# ESC_FA-DpnII_union_DSG-DpnII\n",
    "# ESC_FA-DpnII_union_DSG-MNase"
   ]
  },
  {
   "cell_type": "code",
   "execution_count": null,
   "metadata": {},
   "outputs": [],
   "source": [
    "import numpy as np\n",
    "import pandas as pd\n",
    "import matplotlib.pyplot as plt\n",
    "import matplotlib\n",
    "import glob, os\n",
    "import os.path\n",
    "from scipy.stats import rankdata\n",
    "import numpy as np\n",
    "import matplotlib.pyplot as plt\n",
    "from scipy.stats import gaussian_kde\n",
    "\n",
    "import cooler\n",
    "import numpy as np\n",
    "import pandas as pd\n",
    "import glob, os\n",
    "import matplotlib.pyplot as plt\n",
    "import seaborn as sns\n",
    "from scipy import stats \n",
    "from itertools import product\n",
    "\n",
    "import matplotlib.gridspec as gridspec"
   ]
  },
  {
   "cell_type": "code",
   "execution_count": 17,
   "metadata": {
    "scrolled": true
   },
   "outputs": [
    {
     "data": {
      "image/png": "[encoded data removed]",
      "text/plain": [
       "<Figure size 1080x360 with 2 Axes>"
      ]
     },
     "metadata": {
      "needs_background": "light"
     },
     "output_type": "display_data"
    }
   ],
   "source": [
    "data_hff_dpnii=pd.read_csv(\"HFFC6_FA-DpnII_union_DSG-DpnII.bed\",sep=\"\\t\",header=None)\n",
    "data_hff_mnase=pd.read_csv(\"HFFc6_FA-DpnII_union_DSG-MNase.bed\",sep=\"\\t\",header=None)\n",
    "\n",
    "\n",
    "HFF_FA_DpnII = data_hff_dpnii.iloc[:,3]\n",
    "HFF_DSG_DpnII = data_hff_dpnii.iloc[:,7]\n",
    "\n",
    "HFF_FA_DpnII_2 = data_hff_mnase.iloc[:,3]\n",
    "HFF_DSG_MNase = data_hff_mnase.iloc[:,7]\n",
    "\n",
    "\n",
    "names_list = ['FA+DSG-DpnII - FA-DpnII','FA+DSG-MNase - FA-DpnII']\n",
    "\n",
    "\n",
    "diff1=HFF_DSG_DpnII-HFF_FA_DpnII\n",
    "diff2=HFF_DSG_MNase-HFF_FA_DpnII_2\n",
    "\n",
    "datasets=[diff1,diff2]\n",
    "\n",
    "\n",
    "\n",
    "bins = np.linspace(-10,10,40)\n",
    "#bins = np.concatenate(([0],bins))\n",
    "\n",
    "\n",
    "fig = plt.figure(figsize=(15,5))\n",
    "gs = gridspec.GridSpec(nrows=1,ncols=len(datasets))\n",
    "\n",
    "# histogram normalized to the total number of observations\n",
    "normalized = False\n",
    "colors=['r','b','g']\n",
    "\n",
    "for i,(di,namei) in enumerate(zip(datasets,names_list)):\n",
    "    di = [5 if x>5 else x for x in di]\n",
    "    ax = plt.subplot(gs[0,i],sharex=ax,sharey=ax)\n",
    "    ax.hist(di, bins=bins,label=namei,density=normalized,color=colors[i], alpha=1)\n",
    "    #ax.hist(intersects[i], bins=bins,density=normalized,color=colors[i])\n",
    "    plt.title(names_list[i],fontsize=20)\n",
    "    #ax.set_xscale(\"log\")\n",
    "    #ax.set_yscale(\"log\")\n",
    "    ax.set_xlim(-6,6)\n",
    "    #ax.set_ylim(0,1.5)\n",
    "    #ax.set_xlabel('Hi-C signal')\n",
    "    #ax.set_ylabel('Frequency')\n",
    "    #plt.legend(fontsize=15)\n",
    "    #ax.set_ylim(0,9000)\n",
    "    #ax.set_yscale(\"log\")\n",
    "    plt.savefig(\"Anchor_diff_HFF.pdf\")"
   ]
  },
  {
   "cell_type": "code",
   "execution_count": 14,
   "metadata": {
    "scrolled": true
   },
   "outputs": [
    {
     "data": {
      "image/png": "[encoded data removed]",
      "text/plain": [
       "<Figure size 1080x360 with 2 Axes>"
      ]
     },
     "metadata": {
      "needs_background": "light"
     },
     "output_type": "display_data"
    }
   ],
   "source": [
    "data_esc_dpnii=pd.read_csv(\"ESC_FA-DpnII_union_DSG-DpnII.bed\",sep=\"\\t\",header=None)\n",
    "data_esc_mnase=pd.read_csv(\"ESC_FA-DpnII_union_DSG-MNase.bed\",sep=\"\\t\",header=None)\n",
    "\n",
    "\n",
    "ESC_FA_DpnII = data_esc_dpnii.iloc[:,3]\n",
    "ESC_DSG_DpnII = data_esc_dpnii.iloc[:,7]\n",
    "\n",
    "ESC_FA_DpnII_2 = data_esc_mnase.iloc[:,3]\n",
    "ESC_DSG_MNase = data_esc_mnase.iloc[:,7]\n",
    "\n",
    "\n",
    "names_list = ['FA+DSG-DpnII - FA-DpnII','FA+DSG-MNase - FA-DpnII']\n",
    "\n",
    "\n",
    "diff1=ESC_DSG_DpnII-ESC_FA_DpnII\n",
    "diff2=ESC_DSG_MNase-ESC_FA_DpnII_2\n",
    "\n",
    "datasets=[diff1,diff2]\n",
    "\n",
    "\n",
    "bins = np.linspace(-10,10,40)\n",
    "#bins = np.concatenate(([0],bins))\n",
    "\n",
    "\n",
    "fig = plt.figure(figsize=(15,5))\n",
    "gs = gridspec.GridSpec(nrows=1,ncols=len(datasets))\n",
    "\n",
    "# histogram normalized to the total number of observations\n",
    "normalized = False\n",
    "colors=['r','b','g']\n",
    "\n",
    "for i,(di,namei) in enumerate(zip(datasets,names_list)):\n",
    "        di = [5 if x>5 else x for x in di]\n",
    "        ax = plt.subplot(gs[0,i],sharex=ax,sharey=ax)\n",
    "        ax.hist(di, bins=bins,label=namei,density=normalized,color=colors[i], alpha=1)\n",
    "        #ax.hist(intersects[i], bins=bins,density=normalized,color=colors[i])\n",
    "        plt.title(names_list[i],fontsize=20)\n",
    "        #ax.set_xscale(\"log\")\n",
    "        #ax.set_yscale(\"log\")\n",
    "        ax.set_xlim(-6,6)\n",
    "        #ax.set_ylim(0,1.5)\n",
    "        #ax.set_xlabel('Hi-C signal')\n",
    "        #ax.set_ylabel('Frequency')\n",
    "        #plt.legend(fontsize=15)\n",
    "        #ax.set_ylim(0,9000)\n",
    "        #ax.set_yscale(\"log\")\n",
    "        plt.savefig(\"Anchor_diff_ESC.pdf\")"
   ]
  },
  {
   "cell_type": "code",
   "execution_count": 10,
   "metadata": {},
   "outputs": [],
   "source": []
  },
  {
   "cell_type": "code",
   "execution_count": null,
   "metadata": {},
   "outputs": [],
   "source": []
  },
  {
   "cell_type": "code",
   "execution_count": null,
   "metadata": {},
   "outputs": [],
   "source": []
  }
 ],
 "metadata": {
  "kernelspec": {
   "display_name": "Python 3",
   "language": "python",
   "name": "python3"
  },
  "language_info": {
   "codemirror_mode": {
    "name": "ipython",
    "version": 3
   },
   "file_extension": ".py",
   "mimetype": "text/x-python",
   "name": "python",
   "nbconvert_exporter": "python",
   "pygments_lexer": "ipython3",
   "version": "3.6.6"
  }
 },
 "nbformat": 4,
 "nbformat_minor": 2
}
