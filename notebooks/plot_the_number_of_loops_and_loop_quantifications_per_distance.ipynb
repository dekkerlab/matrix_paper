{
 "cells": [
  {
   "cell_type": "code",
   "execution_count": 1,
   "metadata": {},
   "outputs": [],
   "source": [
    "# compute loop intensity of HFFc6 experiments using \"dot_lists_quantification.py\". The output of te quantification script is \"dot_lists_quantification.py_output\""
   ]
  },
  {
   "cell_type": "code",
   "execution_count": null,
   "metadata": {},
   "outputs": [],
   "source": [
    "import numpy as np\n",
    "import pandas as pd\n",
    "import matplotlib.pyplot as plt\n",
    "import matplotlib\n",
    "import glob, os\n",
    "import os.path\n",
    "from scipy.stats import rankdata\n",
    "import numpy as np\n",
    "import matplotlib.pyplot as plt\n",
    "from scipy.stats import gaussian_kde\n",
    "\n",
    "import cooler\n",
    "import numpy as np\n",
    "import pandas as pd\n",
    "import glob, os\n",
    "import matplotlib.pyplot as plt\n",
    "import seaborn as sns\n",
    "from scipy import stats \n",
    "from itertools import product\n",
    "\n",
    "import matplotlib.gridspec as gridspec"
   ]
  },
  {
   "cell_type": "code",
   "execution_count": 2,
   "metadata": {},
   "outputs": [
    {
     "name": "stderr",
     "output_type": "stream",
     "text": [
      "/home/ba69w/tools/miniconda3/envs/cooler-env/lib/python3.7/site-packages/ipykernel_launcher.py:25: FutureWarning: read_table is deprecated, use read_csv instead, passing sep='\\t'.\n"
     ]
    },
    {
     "name": "stdout",
     "output_type": "stream",
     "text": [
      "/nl/umw_job_dekker/users/ba69w/HiC_Analysis/U54_deep/snakedots/U54-HFFc6-FA-DpnII-R1-R2_hg38/combineddots/cloops_U54-HFFc6-FA-DpnII-R1-R2_hg38.mapq_30.1000.mcool.combined.bedpe.postproc\n",
      "400876.9652387134\n",
      "/nl/umw_job_dekker/users/ba69w/HiC_Analysis/U54_deep/snakedots/U54-HFFc6-DSG-DpnII-R1-R2_hg38/combineddots/cloops_U54-HFFc6-DSG-DpnII-R1-R2_hg38.mapq_30.1000.mcool.combined.bedpe.postproc\n",
      "455997.26592263905\n",
      "/nl/umw_job_dekker/users/ba69w/HiC_Analysis/U54_deep/snakedots/U54-HFFc6-DSG-DdeI-R1-R2_hg38/combineddots/cloops_U54-HFFc6-DSG-DdeI-R1-R2_hg38.mapq_30.1000.mcool.combined.bedpe.postproc\n",
      "454648.9332973265\n",
      "/nl/umw_job_dekker/users/ba69w/HiC_Analysis/U54_deep/snakedots/U54-HFFc6-DSG-DdeI-DpnII-20190711-R1-R3_hg38/combineddots/cloops_U54-HFFc6-DSG-DdeI-DpnII-20190711-R1-R3_hg38.mapq_30.1000.mcool.combined.bedpe.postproc\n",
      "440720.26279391424\n",
      "/nl/umw_job_dekker/users/ba69w/HiC_Analysis/U54_deep/snakedots/U54-HFFc6-FA-DSG-MNase-R1-R3.hg38/combineddots/cloops_U54-HFFc6-FA-DSG-MNase-R1-R3.hg38.mapq_30.1000.mcool.combined.bedpe.postproc\n",
      "389371.8232940413\n"
     ]
    },
    {
     "data": {
      "text/plain": [
       "<Figure size 1080x1080 with 0 Axes>"
      ]
     },
     "metadata": {},
     "output_type": "display_data"
    }
   ],
   "source": [
    "dot_file_FA ='cloops_U54-HFFc6-FA-DpnII-R1-R2_hg38.mapq_30.1000.mcool.combined.bedpe.postproc'\n",
    "dot_file_DpnII=\"cloops_U54-HFFc6-DSG-DpnII-R1-R2_hg38.mapq_30.1000.mcool.combined.bedpe.postproc\"\n",
    "dot_file_DdeI=\"cloops_U54-HFFc6-DSG-DdeI-R1-R2_hg38.mapq_30.1000.mcool.combined.bedpe.postproc\"\n",
    "dot_file_double='cloops_U54-HFFc6-DSG-DdeI-DpnII-20190711-R1-R3_hg38.mapq_30.1000.mcool.combined.bedpe.postproc'\n",
    "dot_file_MNase='cloops_U54-HFFc6-FA-DSG-MNase-R1-R3.hg38.mapq_30.1000.mcool.combined.bedpe.postproc'\n",
    "\n",
    "\n",
    "\n",
    "ddd = [dot_file_FA,dot_file_DpnII,dot_file_DdeI,dot_file_double,dot_file_MNase]\n",
    "lll = ['Hi-C-FA-DpnII','Hi-C-DSG-DpnII','Hi-C-DSG-DdeI','Hi-C-DSG-DdeI-DpnII','Micro-C-DSG-MNase']\n",
    "col=['pink','b','r','m','g']\n",
    "def dot_size_barplot(dot_files,labels):\n",
    "    resolution=10000\n",
    "    plt.figure(figsize=(15 , 15))\n",
    "    w=7\n",
    "    s=(2*w-2)*resolution\n",
    "    bins=np.geomspace(s,20000000,num=50)\n",
    "    hist_keys = {\"histtype\":'step',\n",
    "                 \"cumulative\":False,\n",
    "                 \"density\":True,\n",
    "                 \"linewidth\":2,}\n",
    "    i=0\n",
    "    size_list=[]\n",
    "    for dot_file,label in zip(dot_files,labels):\n",
    "        sites = pd.read_table(dot_file)\n",
    "        print(dot_file)\n",
    "        #print(sites.head(6))\n",
    "        label=label+\" \"+str(sites.shape[0])\n",
    "        dists=(sites['start2']-sites['start1'])\n",
    "        m=np.mean(dists)\n",
    "        print(m)\n",
    "        m=500000\n",
    "        dists_set1=dists[dists<170000]\n",
    "        dists_set2=dists[(dists>=170000) &(dists<270000)]\n",
    "        dists_set3=dists[(dists>=270000) & (dists<370000)]\n",
    "        dists_set4=dists[(dists>=370000) & (dists<470000)]\n",
    "        dists_set5=dists[(dists>=470000) & (dists<570000)]\n",
    "        dists_set6=dists[(dists>=570000) & (dists<670000)]\n",
    "        dists_set7=dists[(dists>=670000) & (dists<770000)]\n",
    "        dists_set8=dists[(dists>=770000) & (dists<870000)]\n",
    "        dists_set9=dists[(dists>=870000) & (dists<970000)]\n",
    "        dists_set10=dists[(dists>=970000) & (dists<1070000)]\n",
    "        #print(dists_set1)\n",
    "        dists_sets=[len(dists_set1),\n",
    "        len(dists_set2),\n",
    "        len(dists_set3),\n",
    "        len(dists_set4),\n",
    "        len(dists_set5),\n",
    "        len(dists_set6),\n",
    "        len(dists_set7),\n",
    "        len(dists_set8),\n",
    "        len(dists_set9),\n",
    "        len(dists_set10)]\n",
    "        size_list.append(dists_sets)\n",
    "    return size_list\n",
    "\n",
    "size_list=dot_size_barplot(ddd,lll)"
   ]
  },
  {
   "cell_type": "code",
   "execution_count": 26,
   "metadata": {},
   "outputs": [
    {
     "name": "stdout",
     "output_type": "stream",
     "text": [
      "[3742, 2548, 2136, 1509, 1048, 731, 536, 384, 292, 205]\n",
      "(-0.9363156334348619, 6.660812092766354e-05)\n",
      "[5629, 3793, 3116, 2387, 1761, 1274, 966, 706, 561, 400]\n",
      "(-0.9390558098216369, 5.605139679539548e-05)\n",
      "[5807, 3808, 3052, 2332, 1685, 1228, 945, 667, 532, 406]\n",
      "(-0.9290669962712854, 0.00010160528570669444)\n",
      "[7996, 5020, 3940, 2950, 2205, 1530, 1171, 846, 670, 460]\n",
      "(-0.9181475560676751, 0.00017774417452797242)\n",
      "[12632, 6612, 4861, 3389, 2393, 1706, 1227, 891, 667, 496]\n",
      "(-0.8640319153333538, 0.0012648710093604958)\n"
     ]
    },
    {
     "data": {
      "image/png": "[encoded data removed]",
      "text/plain": [
       "<Figure size 432x432 with 1 Axes>"
      ]
     },
     "metadata": {
      "needs_background": "light"
     },
     "output_type": "display_data"
    }
   ],
   "source": [
    "plt.figure(figsize=(6 , 6))\n",
    "ax=plt.subplot(1,1,1)\n",
    "from scipy.stats import pearsonr\n",
    "dists=[170,270,370,470,570,670,770,870,970,1070]\n",
    "\n",
    "c=['b','b','r','gold','g']\n",
    "m=[\"s\",\"o\",\"o\",\"o\",\"o\"]\n",
    "for i,di in enumerate(size_list):\n",
    "    print(di)\n",
    "    ax.scatter(dists,di,s=110,color=c[i], marker=m[i])\n",
    "    cor = pearsonr(di, dists)\n",
    "    ax.set_xlabel('Loop Distances',fontsize=20)\n",
    "    ax.set_ylabel('# of loops',fontsize=20)\n",
    "    print(cor)\n",
    "plt.savefig(\"HFF_Loop_distances_vs_number_of_loops_equal_bins.pdf\")"
   ]
  },
  {
   "cell_type": "code",
   "execution_count": 24,
   "metadata": {},
   "outputs": [
    {
     "name": "stdout",
     "output_type": "stream",
     "text": [
      "(0.9852840276964483, 2.0157834203196483e-07)\n",
      "(0.9809016142926288, 5.688221707867375e-07)\n",
      "(0.9790922843147762, 8.152040313832176e-07)\n",
      "(0.9797653627101227, 7.157726708988627e-07)\n",
      "(0.9607469558321251, 9.9052650680366e-06)\n"
     ]
    },
    {
     "data": {
      "image/png": "[encoded data removed]",
      "text/plain": [
       "<Figure size 432x432 with 1 Axes>"
      ]
     },
     "metadata": {
      "needs_background": "light"
     },
     "output_type": "display_data"
    }
   ],
   "source": [
    "data_hff=pd.read_csv(dot_lists_quantification.py_output,header=None)\n",
    "data_hff=data_hff.transpose()\n",
    "\n",
    "data_hff.columns=[\"<170\",\"170-270\",\"270-370\",\"370-470\",\"470-570\",\"570-670\",\"670-770\",\"770-870\",\"870-970\",\"970-100\"]\n",
    "data_hff=data_hff.iloc[1:,:]\n",
    "data_hff.index=[\"FA-DpnII\",\"FA+DSg-DpnII\",\"FA+DSG-DdeI\",\"FA+DSG-DdeI-DpnII\",\"FA+DSG-MNase\"]\n",
    "data_hff.head(5)\n",
    "\n",
    "plt.figure(figsize=(6 , 6))\n",
    "ax=plt.subplot(1,1,1)\n",
    "\n",
    "from scipy.stats import pearsonr\n",
    "dists=[170,270,370,470,570,670,770,870,970,1070]\n",
    "c=['b','b','r','gold','g']\n",
    "m=[\"s\",\"o\",\"o\",\"o\",\"o\"]\n",
    "\n",
    "for i,di in enumerate(dists):\n",
    "    if i < 5:\n",
    "        ax.scatter(dists,data_hff.iloc[i,:],s=110,color=c[i], marker=m[i])\n",
    "        ax.set_xlabel('Loop Distances',fontsize=20)\n",
    "        ax.set_ylabel('Loop enrichments',fontsize=20)\n",
    "        cor = pearsonr(dists, data_hff.iloc[i,:])\n",
    "        print(cor)\n",
    "        ax.set_ylim(1,4.5)\n",
    "plt.savefig(\"HFF_Loop_enrichment_vs_loop_distances_equal_bins.pdf\")"
   ]
  },
  {
   "cell_type": "code",
   "execution_count": null,
   "metadata": {},
   "outputs": [],
   "source": []
  }
 ],
 "metadata": {
  "kernelspec": {
   "display_name": "Python 3",
   "language": "python",
   "name": "python3"
  },
  "language_info": {
   "codemirror_mode": {
    "name": "ipython",
    "version": 3
   },
   "file_extension": ".py",
   "mimetype": "text/x-python",
   "name": "python",
   "nbconvert_exporter": "python",
   "pygments_lexer": "ipython3",
   "version": "3.6.6"
  }
 },
 "nbformat": 4,
 "nbformat_minor": 2
}
