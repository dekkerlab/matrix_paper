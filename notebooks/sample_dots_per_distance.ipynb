{
 "cells": [
  {
   "cell_type": "code",
   "execution_count": 1,
   "metadata": {},
   "outputs": [],
   "source": [
    "# Sample 1000 loops per specified distance from FA+DSG-DdeI+DpnII (double digested Hi-C)"
   ]
  },
  {
   "cell_type": "code",
   "execution_count": null,
   "metadata": {},
   "outputs": [],
   "source": [
    "import cooler\n",
    "import numpy as np\n",
    "import pandas as pd\n",
    "import glob, os\n",
    "import matplotlib.pyplot as plt\n",
    "import seaborn as sns\n",
    "from scipy import stats \n",
    "from itertools import product\n",
    "import matplotlib.gridspec as gridspec"
   ]
  },
  {
   "cell_type": "code",
   "execution_count": 14,
   "metadata": {},
   "outputs": [],
   "source": [
    "sites = pd.read_table(\"cloops_U54-HFFc6-DSG-DdeI-DpnII-20190711-R1-R3_hg38.mapq_30.1000.mcool.combined.bedpe.postproc\")\n",
    "print(sites.shape)\n",
    "dists=[170000,270000,370000,470000,570000,670000,770000,870000,970000]\n",
    "small=sites[sites['start2']-sites['start1']< 100000]\n",
    "sample1=small.sample(n=1000)\n",
    "print(sample1.shape)\n",
    "sample1.to_csv(\"HFF_DdeI_DpnII_Loops_lessthan_170000_1000.txt\",sep=\"\\t\")\n",
    "for i in dists:\n",
    "    med=sites[(sites['start2']-sites['start1']> i) & (sites['start2']-sites['start1']< i+100000)]\n",
    "    if med.shape[0]>1000:\n",
    "        sample2=med.sample(n=1000)\n",
    "        sample2.to_csv(\"HFF_DdeI_DpnII_Loops_\"+str(i)+\"_\"+str(i+100000)+\"_1000.txt\",sep=\"\\t\")\n",
    "    else:\n",
    "        med.to_csv(\"HFF_DdeI_DpnII_Loops_\"+str(i)+\"_\"+str(i+100000)+\"_1000.txt\",sep=\"\\t\")\n",
    "    \n",
    "    \n",
    "    "
   ]
  },
  {
   "cell_type": "code",
   "execution_count": null,
   "metadata": {},
   "outputs": [],
   "source": []
  }
 ],
 "metadata": {
  "kernelspec": {
   "display_name": "Python 3",
   "language": "python",
   "name": "python3"
  },
  "language_info": {
   "codemirror_mode": {
    "name": "ipython",
    "version": 3
   },
   "file_extension": ".py",
   "mimetype": "text/x-python",
   "name": "python",
   "nbconvert_exporter": "python",
   "pygments_lexer": "ipython3",
   "version": "3.6.6"
  }
 },
 "nbformat": 4,
 "nbformat_minor": 2
}
